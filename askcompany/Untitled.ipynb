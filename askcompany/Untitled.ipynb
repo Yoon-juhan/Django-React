{
 "cells": [
  {
   "cell_type": "code",
   "execution_count": 1,
   "id": "fc75e095",
   "metadata": {},
   "outputs": [],
   "source": [
    "import os\n",
    "os.environ['DJANGO_SETTINGS_MODULE']  = 'askcompany.settings'\n",
    "os.environ['DJANGO_ALLOW_ASYNC_UNSAFE'] = \"true\"\n",
    "\n",
    "import django\n",
    "django.setup()"
   ]
  },
  {
   "cell_type": "code",
   "execution_count": 2,
   "id": "689459e1",
   "metadata": {},
   "outputs": [],
   "source": [
    "from instargram.models import Post"
   ]
  },
  {
   "cell_type": "code",
   "execution_count": 3,
   "id": "ad44efc2",
   "metadata": {},
   "outputs": [
    {
     "name": "stdout",
     "output_type": "stream",
     "text": [
      "<class 'django.db.models.query.QuerySet'>\n",
      "SELECT \"instargram_post\".\"id\", \"instargram_post\".\"message\", \"instargram_post\".\"photo\", \"instargram_post\".\"is_public\", \"instargram_post\".\"created_at\", \"instargram_post\".\"updated_at\" FROM \"instargram_post\"\n"
     ]
    },
    {
     "data": {
      "text/plain": [
       "<QuerySet [<Post: 첫 번째 메세지>, <Post: 두 번째 메세지>, <Post: 세 번째 메세지>]>"
      ]
     },
     "execution_count": 3,
     "metadata": {},
     "output_type": "execute_result"
    }
   ],
   "source": [
    "qs = Post.objects.all()\n",
    "print(type(qs))\n",
    "print(qs.query)\n",
    "qs"
   ]
  },
  {
   "cell_type": "code",
   "execution_count": 4,
   "id": "1697d7cd",
   "metadata": {},
   "outputs": [
    {
     "name": "stdout",
     "output_type": "stream",
     "text": [
      "SELECT \"instargram_post\".\"id\", \"instargram_post\".\"message\", \"instargram_post\".\"photo\", \"instargram_post\".\"is_public\", \"instargram_post\".\"created_at\", \"instargram_post\".\"updated_at\" FROM \"instargram_post\" ORDER BY \"instargram_post\".\"id\" DESC\n"
     ]
    },
    {
     "data": {
      "text/plain": [
       "<QuerySet [<Post: 세 번째 메세지>, <Post: 두 번째 메세지>, <Post: 첫 번째 메세지>]>"
      ]
     },
     "execution_count": 4,
     "metadata": {},
     "output_type": "execute_result"
    }
   ],
   "source": [
    "qs = Post.objects.all().order_by('-id')\n",
    "print(qs.query)\n",
    "qs"
   ]
  },
  {
   "cell_type": "code",
   "execution_count": null,
   "id": "eee0f0c4",
   "metadata": {},
   "outputs": [],
   "source": []
  },
  {
   "cell_type": "code",
   "execution_count": 5,
   "id": "db636fc3",
   "metadata": {},
   "outputs": [
    {
     "name": "stdout",
     "output_type": "stream",
     "text": [
      "SELECT \"instargram_post\".\"id\", \"instargram_post\".\"message\", \"instargram_post\".\"photo\", \"instargram_post\".\"is_public\", \"instargram_post\".\"created_at\", \"instargram_post\".\"updated_at\" FROM \"instargram_post\" ORDER BY \"instargram_post\".\"id\" DESC LIMIT 2\n"
     ]
    },
    {
     "data": {
      "text/plain": [
       "<QuerySet [<Post: 세 번째 메세지>, <Post: 두 번째 메세지>]>"
      ]
     },
     "execution_count": 5,
     "metadata": {},
     "output_type": "execute_result"
    }
   ],
   "source": [
    "qs = Post.objects.all().order_by('-id')[:2] # 이 시점에는 쿼리 셋을 지정만한다.\n",
    "print(qs.query)\n",
    "qs  # 이 시점에서 쿼리를 진행한다. (필요할 때)"
   ]
  },
  {
   "cell_type": "code",
   "execution_count": null,
   "id": "5e7e10a6",
   "metadata": {},
   "outputs": [],
   "source": []
  },
  {
   "cell_type": "code",
   "execution_count": 6,
   "id": "2c09b6e3",
   "metadata": {},
   "outputs": [
    {
     "name": "stdout",
     "output_type": "stream",
     "text": [
      "id : 3, message : 세 번째 메세지\n",
      "id : 2, message : 두 번째 메세지\n"
     ]
    }
   ],
   "source": [
    "for post in qs:\n",
    "#     print(post.id, post.message, post.created_at)\n",
    "    print(\"id : {id}, message : {message}\".format(**post.__dict__))"
   ]
  },
  {
   "cell_type": "code",
   "execution_count": null,
   "id": "5a297f34",
   "metadata": {},
   "outputs": [],
   "source": []
  },
  {
   "cell_type": "code",
   "execution_count": 8,
   "id": "16d692f1",
   "metadata": {},
   "outputs": [
    {
     "name": "stdout",
     "output_type": "stream",
     "text": [
      "SELECT \"instargram_post\".\"id\", \"instargram_post\".\"message\", \"instargram_post\".\"photo\", \"instargram_post\".\"is_public\", \"instargram_post\".\"created_at\", \"instargram_post\".\"updated_at\" FROM \"instargram_post\" WHERE \"instargram_post\".\"message\" LIKE %첫 번째% ESCAPE '\\' ORDER BY \"instargram_post\".\"id\" DESC\n"
     ]
    },
    {
     "data": {
      "text/plain": [
       "<QuerySet [<Post: 첫 번째 메세지>]>"
      ]
     },
     "execution_count": 8,
     "metadata": {},
     "output_type": "execute_result"
    }
   ],
   "source": [
    "query = '첫 번째' # 검색어\n",
    "qs = Post.objects.all()\\\n",
    "    .filter(message__icontains=query)\\\n",
    "    .order_by('-id')\n",
    "print(qs.query)\n",
    "qs"
   ]
  },
  {
   "cell_type": "code",
   "execution_count": null,
   "id": "7a721ad9",
   "metadata": {},
   "outputs": [],
   "source": []
  },
  {
   "cell_type": "code",
   "execution_count": 29,
   "id": "2412c435",
   "metadata": {},
   "outputs": [
    {
     "data": {
      "text/plain": [
       "<Post: 첫 번째 메세지>"
      ]
     },
     "execution_count": 29,
     "metadata": {},
     "output_type": "execute_result"
    }
   ],
   "source": [
    "qs = Post.objects.all()\n",
    "qs.first() "
   ]
  },
  {
   "cell_type": "code",
   "execution_count": 27,
   "id": "a9fa473e",
   "metadata": {},
   "outputs": [
    {
     "data": {
      "text/plain": [
       "<Post: 세 번째 메세지>"
      ]
     },
     "execution_count": 27,
     "metadata": {},
     "output_type": "execute_result"
    }
   ],
   "source": [
    "qs.last()"
   ]
  },
  {
   "cell_type": "code",
   "execution_count": 31,
   "id": "426dac62",
   "metadata": {},
   "outputs": [],
   "source": []
  },
  {
   "cell_type": "code",
   "execution_count": 32,
   "id": "afdb7b93",
   "metadata": {},
   "outputs": [],
   "source": [
    "from django.db.models import Q"
   ]
  },
  {
   "cell_type": "code",
   "execution_count": 46,
   "id": "17bcfd3b",
   "metadata": {},
   "outputs": [
    {
     "name": "stdout",
     "output_type": "stream",
     "text": [
      "SELECT \"instargram_post\".\"id\", \"instargram_post\".\"message\", \"instargram_post\".\"photo\", \"instargram_post\".\"is_public\", \"instargram_post\".\"created_at\", \"instargram_post\".\"updated_at\" FROM \"instargram_post\" WHERE (\"instargram_post\".\"id\" >= 2 OR \"instargram_post\".\"message\" LIKE %메세지% ESCAPE '\\')\n"
     ]
    }
   ],
   "source": [
    "qs = Post.objects.all()\n",
    "# qs = qs.filter(Q(id__gte=2) | Q(message__icontains=\"메세지\"))\n",
    "\n",
    "cond = Q(id__gte=2) | Q(message__icontains=\"메세지\")\n",
    "\n",
    "qs = qs.filter(cond)\n",
    "\n",
    "print(qs.query)"
   ]
  },
  {
   "cell_type": "code",
   "execution_count": null,
   "id": "b7588552",
   "metadata": {},
   "outputs": [],
   "source": []
  },
  {
   "cell_type": "code",
   "execution_count": null,
   "id": "b6943f73",
   "metadata": {},
   "outputs": [],
   "source": []
  },
  {
   "cell_type": "code",
   "execution_count": null,
   "id": "f2fba2b0",
   "metadata": {},
   "outputs": [],
   "source": []
  },
  {
   "cell_type": "code",
   "execution_count": null,
   "id": "0f083614",
   "metadata": {},
   "outputs": [],
   "source": []
  },
  {
   "cell_type": "code",
   "execution_count": null,
   "id": "85d7f682",
   "metadata": {},
   "outputs": [],
   "source": []
  },
  {
   "cell_type": "code",
   "execution_count": null,
   "id": "041da88c",
   "metadata": {},
   "outputs": [],
   "source": []
  },
  {
   "cell_type": "code",
   "execution_count": null,
   "id": "4877493f",
   "metadata": {},
   "outputs": [],
   "source": []
  },
  {
   "cell_type": "code",
   "execution_count": null,
   "id": "e377c56b",
   "metadata": {},
   "outputs": [],
   "source": []
  },
  {
   "cell_type": "code",
   "execution_count": null,
   "id": "e0ba9348",
   "metadata": {},
   "outputs": [],
   "source": []
  }
 ],
 "metadata": {
  "kernelspec": {
   "display_name": "Python 3 (ipykernel)",
   "language": "python",
   "name": "python3"
  },
  "language_info": {
   "codemirror_mode": {
    "name": "ipython",
    "version": 3
   },
   "file_extension": ".py",
   "mimetype": "text/x-python",
   "name": "python",
   "nbconvert_exporter": "python",
   "pygments_lexer": "ipython3",
   "version": "3.11.4"
  }
 },
 "nbformat": 4,
 "nbformat_minor": 5
}
