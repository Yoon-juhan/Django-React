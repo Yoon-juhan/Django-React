{
 "cells": [
  {
   "cell_type": "code",
   "execution_count": 2,
   "id": "71bcccf3",
   "metadata": {},
   "outputs": [],
   "source": [
    "import os\n",
    "os.environ['DJANGO_SETTINGS_MODULE']  = 'askcompany.settings'\n",
    "os.environ['DJANGO_ALLOW_ASYNC_UNSAFE'] = \"true\"\n",
    "\n",
    "import django\n",
    "django.setup()"
   ]
  },
  {
   "cell_type": "code",
   "execution_count": 4,
   "id": "6ab293b9",
   "metadata": {},
   "outputs": [],
   "source": [
    "from accounts.models import Profile"
   ]
  },
  {
   "cell_type": "code",
   "execution_count": 8,
   "id": "0051a911",
   "metadata": {},
   "outputs": [
    {
     "data": {
      "text/plain": [
       "<User: juhan>"
      ]
     },
     "execution_count": 8,
     "metadata": {},
     "output_type": "execute_result"
    }
   ],
   "source": [
    "profile = Profile.objects.first()\n",
    "profile.user"
   ]
  },
  {
   "cell_type": "code",
   "execution_count": 18,
   "id": "990c25fe",
   "metadata": {},
   "outputs": [
    {
     "data": {
      "text/plain": [
       "(1, {'accounts.Profile': 1})"
      ]
     },
     "execution_count": 18,
     "metadata": {},
     "output_type": "execute_result"
    }
   ],
   "source": [
    "profile.delete()"
   ]
  },
  {
   "cell_type": "code",
   "execution_count": 23,
   "id": "d28e1b5f",
   "metadata": {},
   "outputs": [
    {
     "ename": "RelatedObjectDoesNotExist",
     "evalue": "User has no profile.",
     "output_type": "error",
     "traceback": [
      "\u001b[1;31m---------------------------------------------------------------------------\u001b[0m",
      "\u001b[1;31mRelatedObjectDoesNotExist\u001b[0m                 Traceback (most recent call last)",
      "Cell \u001b[1;32mIn[23], line 6\u001b[0m\n\u001b[0;32m      3\u001b[0m User \u001b[38;5;241m=\u001b[39m get_user_model()\n\u001b[0;32m      5\u001b[0m user \u001b[38;5;241m=\u001b[39m User\u001b[38;5;241m.\u001b[39mobjects\u001b[38;5;241m.\u001b[39mfirst()\n\u001b[1;32m----> 6\u001b[0m user\u001b[38;5;241m.\u001b[39mprofile\n",
      "File \u001b[1;32m~\\.conda\\envs\\askcompany\\Lib\\site-packages\\django\\db\\models\\fields\\related_descriptors.py:492\u001b[0m, in \u001b[0;36mReverseOneToOneDescriptor.__get__\u001b[1;34m(self, instance, cls)\u001b[0m\n\u001b[0;32m    489\u001b[0m     \u001b[38;5;28mself\u001b[39m\u001b[38;5;241m.\u001b[39mrelated\u001b[38;5;241m.\u001b[39mset_cached_value(instance, rel_obj)\n\u001b[0;32m    491\u001b[0m \u001b[38;5;28;01mif\u001b[39;00m rel_obj \u001b[38;5;129;01mis\u001b[39;00m \u001b[38;5;28;01mNone\u001b[39;00m:\n\u001b[1;32m--> 492\u001b[0m     \u001b[38;5;28;01mraise\u001b[39;00m \u001b[38;5;28mself\u001b[39m\u001b[38;5;241m.\u001b[39mRelatedObjectDoesNotExist(\n\u001b[0;32m    493\u001b[0m         \u001b[38;5;124m\"\u001b[39m\u001b[38;5;132;01m%s\u001b[39;00m\u001b[38;5;124m has no \u001b[39m\u001b[38;5;132;01m%s\u001b[39;00m\u001b[38;5;124m.\u001b[39m\u001b[38;5;124m\"\u001b[39m\n\u001b[0;32m    494\u001b[0m         \u001b[38;5;241m%\u001b[39m (instance\u001b[38;5;241m.\u001b[39m\u001b[38;5;18m__class__\u001b[39m\u001b[38;5;241m.\u001b[39m\u001b[38;5;18m__name__\u001b[39m, \u001b[38;5;28mself\u001b[39m\u001b[38;5;241m.\u001b[39mrelated\u001b[38;5;241m.\u001b[39mget_accessor_name())\n\u001b[0;32m    495\u001b[0m     )\n\u001b[0;32m    496\u001b[0m \u001b[38;5;28;01melse\u001b[39;00m:\n\u001b[0;32m    497\u001b[0m     \u001b[38;5;28;01mreturn\u001b[39;00m rel_obj\n",
      "\u001b[1;31mRelatedObjectDoesNotExist\u001b[0m: User has no profile."
     ]
    }
   ],
   "source": [
    "from django.contrib.auth import get_user_model\n",
    "\n",
    "User = get_user_model()\n",
    "\n",
    "user = User.objects.first()\n",
    "user.profile"
   ]
  },
  {
   "cell_type": "code",
   "execution_count": 22,
   "id": "161e197f",
   "metadata": {},
   "outputs": [
    {
     "data": {
      "text/plain": [
       "(20, {'admin.LogEntry': 18, 'accounts.Profile': 1, 'auth.User': 1})"
      ]
     },
     "execution_count": 22,
     "metadata": {},
     "output_type": "execute_result"
    }
   ],
   "source": []
  }
 ],
 "metadata": {
  "kernelspec": {
   "display_name": "Python 3 (ipykernel)",
   "language": "python",
   "name": "python3"
  },
  "language_info": {
   "codemirror_mode": {
    "name": "ipython",
    "version": 3
   },
   "file_extension": ".py",
   "mimetype": "text/x-python",
   "name": "python",
   "nbconvert_exporter": "python",
   "pygments_lexer": "ipython3",
   "version": "3.11.4"
  }
 },
 "nbformat": 4,
 "nbformat_minor": 5
}
